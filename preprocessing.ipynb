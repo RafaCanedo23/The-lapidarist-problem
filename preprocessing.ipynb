{
 "cells": [
  {
   "cell_type": "markdown",
   "metadata": {},
   "source": [
    "# The lapidarist problem"
   ]
  },
  {
   "cell_type": "code",
   "execution_count": 56,
   "metadata": {},
   "outputs": [],
   "source": [
    "# File extraction\n",
    "import pandas as pd\n",
    "from tabulate import tabulate\n",
    "import matplotlib.pyplot as plt\n",
    "import seaborn as sns\n",
    "from sklearn.preprocessing import StandardScaler\n",
    "from sklearn.model_selection import train_test_split\n",
    "from sklearn.linear_model import LinearRegression\n",
    "from sklearn.metrics import mean_squared_error\n",
    "from sklearn.svm import SVR\n",
    "\n",
    "diamonds_df = pd.read_csv('data/diamonds.csv')\n",
    "coords_diamonds_df = pd.read_csv('data/coords_diamonds.csv')"
   ]
  },
  {
   "cell_type": "markdown",
   "metadata": {},
   "source": [
    "A first look at each table allows to see that I needed to merge both tables using the \"Unnamed: 0\" feature as the joining argument. I also tested that the number of observations matched between tables. "
   ]
  },
  {
   "cell_type": "code",
   "execution_count": 57,
   "metadata": {},
   "outputs": [
    {
     "name": "stdout",
     "output_type": "stream",
     "text": [
      "(53930, 11)\n"
     ]
    },
    {
     "data": {
      "text/html": [
       "<div>\n",
       "<style scoped>\n",
       "    .dataframe tbody tr th:only-of-type {\n",
       "        vertical-align: middle;\n",
       "    }\n",
       "\n",
       "    .dataframe tbody tr th {\n",
       "        vertical-align: top;\n",
       "    }\n",
       "\n",
       "    .dataframe thead th {\n",
       "        text-align: right;\n",
       "    }\n",
       "</style>\n",
       "<table border=\"1\" class=\"dataframe\">\n",
       "  <thead>\n",
       "    <tr style=\"text-align: right;\">\n",
       "      <th></th>\n",
       "      <th>Unnamed: 0</th>\n",
       "      <th>carat</th>\n",
       "      <th>cut</th>\n",
       "      <th>color</th>\n",
       "      <th>clarity</th>\n",
       "      <th>depth</th>\n",
       "      <th>tableID</th>\n",
       "      <th>price</th>\n",
       "      <th>x</th>\n",
       "      <th>y</th>\n",
       "      <th>z</th>\n",
       "    </tr>\n",
       "  </thead>\n",
       "  <tbody>\n",
       "    <tr>\n",
       "      <th>0</th>\n",
       "      <td>0</td>\n",
       "      <td>0.23</td>\n",
       "      <td>Ideal</td>\n",
       "      <td>E</td>\n",
       "      <td>SI2</td>\n",
       "      <td>61.5</td>\n",
       "      <td>55.0</td>\n",
       "      <td>326</td>\n",
       "      <td>3.95</td>\n",
       "      <td>3.98</td>\n",
       "      <td>2.43</td>\n",
       "    </tr>\n",
       "    <tr>\n",
       "      <th>1</th>\n",
       "      <td>1</td>\n",
       "      <td>0.21</td>\n",
       "      <td>Premium</td>\n",
       "      <td>E</td>\n",
       "      <td>SI1</td>\n",
       "      <td>59.8</td>\n",
       "      <td>61.0</td>\n",
       "      <td>326</td>\n",
       "      <td>3.89</td>\n",
       "      <td>3.84</td>\n",
       "      <td>2.31</td>\n",
       "    </tr>\n",
       "    <tr>\n",
       "      <th>2</th>\n",
       "      <td>2</td>\n",
       "      <td>0.23</td>\n",
       "      <td>Good</td>\n",
       "      <td>E</td>\n",
       "      <td>VS1</td>\n",
       "      <td>56.9</td>\n",
       "      <td>65.0</td>\n",
       "      <td>327</td>\n",
       "      <td>4.05</td>\n",
       "      <td>4.07</td>\n",
       "      <td>2.31</td>\n",
       "    </tr>\n",
       "    <tr>\n",
       "      <th>3</th>\n",
       "      <td>3</td>\n",
       "      <td>0.29</td>\n",
       "      <td>Premium</td>\n",
       "      <td>I</td>\n",
       "      <td>VS2</td>\n",
       "      <td>62.4</td>\n",
       "      <td>58.0</td>\n",
       "      <td>334</td>\n",
       "      <td>4.20</td>\n",
       "      <td>4.23</td>\n",
       "      <td>2.63</td>\n",
       "    </tr>\n",
       "    <tr>\n",
       "      <th>4</th>\n",
       "      <td>4</td>\n",
       "      <td>0.31</td>\n",
       "      <td>Good</td>\n",
       "      <td>J</td>\n",
       "      <td>SI2</td>\n",
       "      <td>63.3</td>\n",
       "      <td>58.0</td>\n",
       "      <td>335</td>\n",
       "      <td>4.34</td>\n",
       "      <td>4.35</td>\n",
       "      <td>2.75</td>\n",
       "    </tr>\n",
       "  </tbody>\n",
       "</table>\n",
       "</div>"
      ],
      "text/plain": [
       "   Unnamed: 0  carat      cut color clarity  depth  tableID  price     x  \\\n",
       "0           0   0.23    Ideal     E     SI2   61.5     55.0    326  3.95   \n",
       "1           1   0.21  Premium     E     SI1   59.8     61.0    326  3.89   \n",
       "2           2   0.23     Good     E     VS1   56.9     65.0    327  4.05   \n",
       "3           3   0.29  Premium     I     VS2   62.4     58.0    334  4.20   \n",
       "4           4   0.31     Good     J     SI2   63.3     58.0    335  4.34   \n",
       "\n",
       "      y     z  \n",
       "0  3.98  2.43  \n",
       "1  3.84  2.31  \n",
       "2  4.07  2.31  \n",
       "3  4.23  2.63  \n",
       "4  4.35  2.75  "
      ]
     },
     "execution_count": 57,
     "metadata": {},
     "output_type": "execute_result"
    }
   ],
   "source": [
    "print(diamonds_df.shape)\n",
    "diamonds_df.head()"
   ]
  },
  {
   "cell_type": "code",
   "execution_count": 58,
   "metadata": {},
   "outputs": [
    {
     "name": "stdout",
     "output_type": "stream",
     "text": [
      "(53930, 3)\n"
     ]
    },
    {
     "data": {
      "text/html": [
       "<div>\n",
       "<style scoped>\n",
       "    .dataframe tbody tr th:only-of-type {\n",
       "        vertical-align: middle;\n",
       "    }\n",
       "\n",
       "    .dataframe tbody tr th {\n",
       "        vertical-align: top;\n",
       "    }\n",
       "\n",
       "    .dataframe thead th {\n",
       "        text-align: right;\n",
       "    }\n",
       "</style>\n",
       "<table border=\"1\" class=\"dataframe\">\n",
       "  <thead>\n",
       "    <tr style=\"text-align: right;\">\n",
       "      <th></th>\n",
       "      <th>Unnamed: 0</th>\n",
       "      <th>latitude</th>\n",
       "      <th>longitude</th>\n",
       "    </tr>\n",
       "  </thead>\n",
       "  <tbody>\n",
       "    <tr>\n",
       "      <th>0</th>\n",
       "      <td>0</td>\n",
       "      <td>39.8813889</td>\n",
       "      <td>-83.093056</td>\n",
       "    </tr>\n",
       "    <tr>\n",
       "      <th>1</th>\n",
       "      <td>1</td>\n",
       "      <td>33.415</td>\n",
       "      <td>-111.548889</td>\n",
       "    </tr>\n",
       "    <tr>\n",
       "      <th>2</th>\n",
       "      <td>2</td>\n",
       "      <td>40.1672222</td>\n",
       "      <td>-105.101389</td>\n",
       "    </tr>\n",
       "    <tr>\n",
       "      <th>3</th>\n",
       "      <td>3</td>\n",
       "      <td>37.3711111</td>\n",
       "      <td>-85.583056</td>\n",
       "    </tr>\n",
       "    <tr>\n",
       "      <th>4</th>\n",
       "      <td>4</td>\n",
       "      <td>48.5394444</td>\n",
       "      <td>-121.745000</td>\n",
       "    </tr>\n",
       "  </tbody>\n",
       "</table>\n",
       "</div>"
      ],
      "text/plain": [
       "   Unnamed: 0    latitude  longitude \n",
       "0           0  39.8813889  -83.093056\n",
       "1           1      33.415 -111.548889\n",
       "2           2  40.1672222 -105.101389\n",
       "3           3  37.3711111  -85.583056\n",
       "4           4  48.5394444 -121.745000"
      ]
     },
     "execution_count": 58,
     "metadata": {},
     "output_type": "execute_result"
    }
   ],
   "source": [
    "print(coords_diamonds_df.shape)\n",
    "coords_diamonds_df.head()"
   ]
  },
  {
   "cell_type": "code",
   "execution_count": 59,
   "metadata": {},
   "outputs": [],
   "source": [
    "# Merging both data sets\n",
    "diamonds_df = diamonds_df.merge(coords_diamonds_df, how = 'left', on = 'Unnamed: 0')\n",
    "diamonds_df.drop('Unnamed: 0', inplace = True, axis = 1)"
   ]
  },
  {
   "cell_type": "markdown",
   "metadata": {},
   "source": [
    "By merging table the predictive model will use information from 11 different features of +50K diamonds to predict as accurately as possible the price of Krenk's missing values. \n",
    "\n",
    "I'm not an diamond expert. However, some of the variables are well self explantory for the others I made a quick research on what they were in the context of diamonds, the variables that I did not found on the research are taken as another input to support the model. \n",
    "\n",
    "The 11 different features we are going to use to try to predict are: \n",
    "* carat: the weight of the diamond\n",
    "* cut: the quality of the diamond's cut, which affects its brilliance\n",
    "* color: the color grade of the diamond, indicating how colorless it is\n",
    "* clarity: the clarity grade of the diamond, which determines de present of internal \n",
    "* depth: the depth percentage of the diamond\n",
    "* table: the table percentage of the diamond\n",
    "* price: the price of the variable (this is the dependent variable that will be called y)\n",
    "* x, y and z: likely represent the lenght, width and depth of the diamond in milimeters\n",
    "* latitude and lingitud : some spacial information (no more info)\n",
    "\n",
    "## EDA\n",
    "On the Exploratory Data Analysis we aim to accomplish the following things: \n",
    "1. Know my data. \n",
    "2. Find errors in my data. It can be either by errors at the moment of measure or capturing the information of the variables, typos in the categorical values, and others. \n",
    "3. Get a sense on what predictive models might be the better fit to the problem and the data. "
   ]
  },
  {
   "cell_type": "code",
   "execution_count": 60,
   "metadata": {},
   "outputs": [],
   "source": [
    "# Function lib\n",
    "def dqr(data):\n",
    "    \"\"\"\n",
    "    Generate a Data Quality Report\n",
    "    \"\"\"\n",
    "    cols = pd.DataFrame(list(data.columns.values),\n",
    "                           columns=['Names'],\n",
    "                           index=list(data.columns.values))\n",
    "    dtyp = pd.DataFrame(data.dtypes,columns=['Type'])\n",
    "    misval = pd.DataFrame(data.isnull().sum(),\n",
    "                                  columns=['Missing_values'])\n",
    "    presval = pd.DataFrame(data.count(),\n",
    "                                  columns=['Present_values'])\n",
    "    unival = pd.DataFrame(columns=['Unique_values'])\n",
    "    minval = pd.DataFrame(columns=['Min_value'])\n",
    "    maxval = pd.DataFrame(columns=['Max_value'])\n",
    "    for col in list(data.columns.values):\n",
    "        unival.loc[col] = [data[col].nunique()]\n",
    "        try:\n",
    "            minval.loc[col] = [data[col].min()]\n",
    "            maxval.loc[col] = [data[col].max()]\n",
    "        except:\n",
    "            pass\n",
    "    \n",
    "    return cols.join(dtyp).join(misval).join(presval).join(unival).join(minval).join(maxval)\n",
    "\n",
    "def is_number(s):\n",
    "    \"\"\"\n",
    "    Identify if a value is number or not\n",
    "    \"\"\"\n",
    "    try:\n",
    "        float(s)\n",
    "        return True\n",
    "    except ValueError:\n",
    "        return False\n",
    "    \n",
    "def clean_string(string):\n",
    "    \"\"\"\n",
    "    Eliminate all non alpha numeric characters\n",
    "    \"\"\"\n",
    "    try:\n",
    "        string=  [char for char in string if char.isalnum() and char]\n",
    "        return ''.join(string)\n",
    "    except ValueError:\n",
    "        return False"
   ]
  },
  {
   "cell_type": "markdown",
   "metadata": {},
   "source": [
    "### DQR\n",
    "From the dqr we can make the following first conclusions. \n",
    "\n",
    "1. There's missing data in 3 fields (depth, x and y). Although the sample relative to the present values does not exceed the 5% a Data Scientist normally have 2 options to handle missing values, either I input the missing data with the mean or median of the actual computed values or  delete those observations from the data set. \n",
    "\n",
    "2. There are inputing errors in the categorical values (cut, color, clarity). The data cleanning can be very exhaustive but things can be simplified if you find the correct pattern to correct those inputs. \n",
    "\n",
    "3. x, y and z are variables likely to represent the size of the diamond... it is weird to see that we have negative values on such features. \n",
    "\n",
    "4. The scales of the data are different from one feature to another, some models assumes that the data have similar scales to their proper application. Standardization or normalization might be usefull techniques to our specific problem. \n",
    "\n",
    "5. The data contains three categorical features, those features given the nature of the problem are likely to be encoded to convert them into numerical values. The proper technique will be decided as the AED develops. \n",
    "\n",
    "6. Latitude variable is supposed to be a numerical value. However the dqr indicates that at least one observation is wrongly inputed. "
   ]
  },
  {
   "cell_type": "code",
   "execution_count": 61,
   "metadata": {},
   "outputs": [
    {
     "name": "stdout",
     "output_type": "stream",
     "text": [
      "+-----------+---------+----------------+----------------+---------------+-------------+------------+\n",
      "|   Names   |  Type   | Missing_values | Present_values | Unique_values |  Min_value  | Max_value  |\n",
      "+-----------+---------+----------------+----------------+---------------+-------------+------------+\n",
      "|   carat   | float64 |       0        |     53930      |      273      |     0.2     |    5.01    |\n",
      "|    cut    | object  |       0        |     53930      |      26       |    !Good    | Very Good  |\n",
      "|   color   | object  |       0        |     53930      |      26       |     !E      |     J      |\n",
      "|  clarity  | object  |       0        |     53930      |      30       |    !VS2     |    VVS2    |\n",
      "|   depth   | float64 |      2962      |     50968      |      184      |    43.0     |    79.0    |\n",
      "|  tableID  | float64 |       0        |     53930      |      127      |    43.0     |    95.0    |\n",
      "|   price   |  int64  |       0        |     53930      |     11602     |     326     |   18823    |\n",
      "|     x     | float64 |      1090      |     52840      |      559      |    -6.37    |   10.74    |\n",
      "|     y     | float64 |      585       |     53345      |      556      |    -6.61    |    58.9    |\n",
      "|     z     | float64 |       0        |     53930      |      380      |    -4.06    |    31.8    |\n",
      "| latitude  | object  |       0        |     53930      |     14877     |  -0.023559  |  9.977844  |\n",
      "| longitude | float64 |       0        |     53930      |     15594     | -173.985008 | 178.017649 |\n",
      "+-----------+---------+----------------+----------------+---------------+-------------+------------+\n"
     ]
    }
   ],
   "source": [
    "print(tabulate(dqr(diamonds_df), headers='keys', tablefmt='pretty', showindex=False))"
   ]
  },
  {
   "cell_type": "markdown",
   "metadata": {},
   "source": [
    "### Pre processing\n",
    "I started the pre processing by addressing the first issues we saw on the dqr. The first thing I cleaned is the values wrongly coded in latitude. You can see that there's only one diamond that is incorrectly inputed because it contains a q besides the decimal separator; so I replaced the incorrect value \"q\" by \"\" and the converted that number to float as the rest of coordinates. "
   ]
  },
  {
   "cell_type": "code",
   "execution_count": 62,
   "metadata": {},
   "outputs": [
    {
     "data": {
      "text/html": [
       "<div>\n",
       "<style scoped>\n",
       "    .dataframe tbody tr th:only-of-type {\n",
       "        vertical-align: middle;\n",
       "    }\n",
       "\n",
       "    .dataframe tbody tr th {\n",
       "        vertical-align: top;\n",
       "    }\n",
       "\n",
       "    .dataframe thead th {\n",
       "        text-align: right;\n",
       "    }\n",
       "</style>\n",
       "<table border=\"1\" class=\"dataframe\">\n",
       "  <thead>\n",
       "    <tr style=\"text-align: right;\">\n",
       "      <th></th>\n",
       "      <th>carat</th>\n",
       "      <th>cut</th>\n",
       "      <th>color</th>\n",
       "      <th>clarity</th>\n",
       "      <th>depth</th>\n",
       "      <th>tableID</th>\n",
       "      <th>price</th>\n",
       "      <th>x</th>\n",
       "      <th>y</th>\n",
       "      <th>z</th>\n",
       "      <th>latitude</th>\n",
       "      <th>longitude</th>\n",
       "    </tr>\n",
       "  </thead>\n",
       "  <tbody>\n",
       "    <tr>\n",
       "      <th>48185</th>\n",
       "      <td>0.7</td>\n",
       "      <td>Fair</td>\n",
       "      <td>F</td>\n",
       "      <td>SI2</td>\n",
       "      <td>64.6</td>\n",
       "      <td>57.0</td>\n",
       "      <td>1947</td>\n",
       "      <td>5.6</td>\n",
       "      <td>5.57</td>\n",
       "      <td>3.61</td>\n",
       "      <td>33q.200088</td>\n",
       "      <td>-105.624152</td>\n",
       "    </tr>\n",
       "  </tbody>\n",
       "</table>\n",
       "</div>"
      ],
      "text/plain": [
       "       carat   cut color clarity  depth  tableID  price    x     y     z  \\\n",
       "48185    0.7  Fair     F     SI2   64.6     57.0   1947  5.6  5.57  3.61   \n",
       "\n",
       "         latitude  longitude   \n",
       "48185  33q.200088 -105.624152  "
      ]
     },
     "execution_count": 62,
     "metadata": {},
     "output_type": "execute_result"
    }
   ],
   "source": [
    "# Identify which diamonds contained errors in their latitude\n",
    "diamonds_df[diamonds_df['latitude'].apply(is_number) == False]"
   ]
  },
  {
   "cell_type": "code",
   "execution_count": 63,
   "metadata": {},
   "outputs": [],
   "source": [
    "# Changing the identified observations\n",
    "diamonds_df['latitude'] = diamonds_df['latitude'].str.replace(\"q\", \"\").astype('float64')"
   ]
  },
  {
   "cell_type": "markdown",
   "metadata": {},
   "source": [
    "After I corrected the latitude I moved to the rest of categorical values. As I mentioned early, by finding the correct cleanning pattern you can save a lot of time. In order to achieve that, I first looked for all the different possible classes of each categorical variables, after inspection I realized that the only pattern I needed to apply was that each character in the class must be an alphanumerical value. \n",
    "\n",
    "After finding the pattern I created a function to strip all the non alphanumerical characters and I got my correct set of classes which will be helpfull to correctly encode this variables later in the solution. "
   ]
  },
  {
   "cell_type": "code",
   "execution_count": 64,
   "metadata": {},
   "outputs": [
    {
     "name": "stdout",
     "output_type": "stream",
     "text": [
      "Unique values for  cut var:\n",
      "['Ideal' 'Premium' 'Good' 'Very Good' 'Fair' 'Very Goo!d' \"P*'remium\"\n",
      " 'I#deal' '#Very Good' 'P?remium' \"*'Ideal\" '!Good' 'Pre!mium' 'Pr?emium'\n",
      " 'Very Go#od' 'Ide&al' 'Ide!al' 'Id!eal' '&Premium' 'Go?od' 'G#ood'\n",
      " \"Very *'Good\" \"Ide*'al\" 'V&ery Good' '&Ideal' 'Very G#ood']\n",
      "Unique values for  color var:\n",
      "['E' 'I' 'J' 'H' 'F' 'G' 'D' \"*'E\" '#F' '&G' '!H' '?J' '#D' '&I' '!I' '?G'\n",
      " '#H' '?H' '?E' \"*'F\" '!E' '&F' '#G' \"*'I\" '!F' '&E']\n",
      "Unique values for  clarity var:\n",
      "['SI2' 'SI1' 'VS1' 'VS2' 'VVS2' 'VVS1' 'I1' 'IF' 'S?I1' 'SI!1' '&VS2'\n",
      " '&SI2' \"S*'I1\" 'VS?1' \"S*'I2\" '#VS1' 'V&S2' 'V!S2' '!VS2' 'VS#2' \"VVS*'2\"\n",
      " \"*'SI2\" 'VV?S1' 'S&I1' \"*'SI1\" 'SI?1' 'VV#S1' 'V#S2' '#SI!1' 'S!I2']\n"
     ]
    }
   ],
   "source": [
    "# Printing all unique values for each categorical variable\n",
    "for i in ['cut', 'color', 'clarity']:\n",
    "    print(\"Unique values for \", i, \"var:\")\n",
    "    print(diamonds_df[i].unique())\n",
    "\n"
   ]
  },
  {
   "cell_type": "code",
   "execution_count": 65,
   "metadata": {},
   "outputs": [
    {
     "name": "stdout",
     "output_type": "stream",
     "text": [
      "Unique values for  cut var:\n",
      "['Ideal' 'Premium' 'Good' 'VeryGood' 'Fair']\n",
      "Unique values for  color var:\n",
      "['E' 'I' 'J' 'H' 'F' 'G' 'D']\n",
      "Unique values for  clarity var:\n",
      "['SI2' 'SI1' 'VS1' 'VS2' 'VVS2' 'VVS1' 'I1' 'IF']\n"
     ]
    }
   ],
   "source": [
    "# Application of clean string function\n",
    "var_st = diamonds_df[['cut', 'color', 'clarity']].applymap(lambda string: clean_string(string))\n",
    "\n",
    "# Checking again the unique values to accept correction\n",
    "for i in ['cut', 'color', 'clarity']:\n",
    "    print(\"Unique values for \", i, \"var:\")\n",
    "    print(var_st[i].unique())\n",
    "\n",
    "# Replacing the correct values into the original dataset\n",
    "diamonds_df[['cut', 'color', 'clarity']] = var_st"
   ]
  },
  {
   "cell_type": "markdown",
   "metadata": {},
   "source": [
    "As i also mentioned, it seems incorrect that variables (a priori) related to the size of the diamond contain negatives value, this fact along with the very few instances of this phenomenon allows us to elaborate the hypothesis that those values should actually be positive values of that magnitude so I converted those instances to positive using absolute value function. "
   ]
  },
  {
   "cell_type": "code",
   "execution_count": 66,
   "metadata": {},
   "outputs": [],
   "source": [
    "# Converting the incorrect numbers into correct abs ones\n",
    "diamonds_df[['x', 'y', 'z']] = abs(diamonds_df[['x', 'y', 'z']])"
   ]
  },
  {
   "cell_type": "markdown",
   "metadata": {},
   "source": [
    "The last two points have to do with scales, encoding and the assumptions needed to fit the -to be defined- predictive model. In this sense the following exploration and experiments were performed. \n",
    "\n",
    "1. Skewness analysis\n",
    "By ploting some histograms it can be seen that there's presence of some (not many) outlier in some features and the type of distribution of each conitnous variable. At first sight we can think that by elminating some outliers and use less bins we might get some normal or continouse distributions needed to apply the first model I'll apply which is a MLR. "
   ]
  },
  {
   "cell_type": "code",
   "execution_count": 67,
   "metadata": {},
   "outputs": [
    {
     "ename": "KeyError",
     "evalue": "'table'",
     "output_type": "error",
     "traceback": [
      "\u001b[1;31m---------------------------------------------------------------------------\u001b[0m",
      "\u001b[1;31mKeyError\u001b[0m                                  Traceback (most recent call last)",
      "File \u001b[1;32mc:\\Users\\rafae\\anaconda3\\Lib\\site-packages\\pandas\\core\\indexes\\base.py:3802\u001b[0m, in \u001b[0;36mIndex.get_loc\u001b[1;34m(self, key, method, tolerance)\u001b[0m\n\u001b[0;32m   3801\u001b[0m \u001b[38;5;28;01mtry\u001b[39;00m:\n\u001b[1;32m-> 3802\u001b[0m     \u001b[38;5;28;01mreturn\u001b[39;00m \u001b[38;5;28mself\u001b[39m\u001b[38;5;241m.\u001b[39m_engine\u001b[38;5;241m.\u001b[39mget_loc(casted_key)\n\u001b[0;32m   3803\u001b[0m \u001b[38;5;28;01mexcept\u001b[39;00m \u001b[38;5;167;01mKeyError\u001b[39;00m \u001b[38;5;28;01mas\u001b[39;00m err:\n",
      "File \u001b[1;32mc:\\Users\\rafae\\anaconda3\\Lib\\site-packages\\pandas\\_libs\\index.pyx:138\u001b[0m, in \u001b[0;36mpandas._libs.index.IndexEngine.get_loc\u001b[1;34m()\u001b[0m\n",
      "File \u001b[1;32mc:\\Users\\rafae\\anaconda3\\Lib\\site-packages\\pandas\\_libs\\index.pyx:165\u001b[0m, in \u001b[0;36mpandas._libs.index.IndexEngine.get_loc\u001b[1;34m()\u001b[0m\n",
      "File \u001b[1;32mpandas\\_libs\\hashtable_class_helper.pxi:5745\u001b[0m, in \u001b[0;36mpandas._libs.hashtable.PyObjectHashTable.get_item\u001b[1;34m()\u001b[0m\n",
      "File \u001b[1;32mpandas\\_libs\\hashtable_class_helper.pxi:5753\u001b[0m, in \u001b[0;36mpandas._libs.hashtable.PyObjectHashTable.get_item\u001b[1;34m()\u001b[0m\n",
      "\u001b[1;31mKeyError\u001b[0m: 'table'",
      "\nThe above exception was the direct cause of the following exception:\n",
      "\u001b[1;31mKeyError\u001b[0m                                  Traceback (most recent call last)",
      "Cell \u001b[1;32mIn[67], line 10\u001b[0m\n\u001b[0;32m      8\u001b[0m     col \u001b[38;5;241m=\u001b[39m i \u001b[38;5;241m%\u001b[39m \u001b[38;5;241m2\u001b[39m\n\u001b[0;32m      9\u001b[0m     ax \u001b[38;5;241m=\u001b[39m axs[row, col]\n\u001b[1;32m---> 10\u001b[0m     diamonds_df[variable]\u001b[38;5;241m.\u001b[39mhist(bins\u001b[38;5;241m=\u001b[39m\u001b[38;5;241m20\u001b[39m, ax\u001b[38;5;241m=\u001b[39max)\n\u001b[0;32m     11\u001b[0m     ax\u001b[38;5;241m.\u001b[39mset_title(variable)\n\u001b[0;32m     13\u001b[0m \u001b[38;5;28;01mif\u001b[39;00m num_variables \u001b[38;5;241m%\u001b[39m \u001b[38;5;241m2\u001b[39m \u001b[38;5;241m!=\u001b[39m \u001b[38;5;241m0\u001b[39m:\n",
      "File \u001b[1;32mc:\\Users\\rafae\\anaconda3\\Lib\\site-packages\\pandas\\core\\frame.py:3807\u001b[0m, in \u001b[0;36mDataFrame.__getitem__\u001b[1;34m(self, key)\u001b[0m\n\u001b[0;32m   3805\u001b[0m \u001b[38;5;28;01mif\u001b[39;00m \u001b[38;5;28mself\u001b[39m\u001b[38;5;241m.\u001b[39mcolumns\u001b[38;5;241m.\u001b[39mnlevels \u001b[38;5;241m>\u001b[39m \u001b[38;5;241m1\u001b[39m:\n\u001b[0;32m   3806\u001b[0m     \u001b[38;5;28;01mreturn\u001b[39;00m \u001b[38;5;28mself\u001b[39m\u001b[38;5;241m.\u001b[39m_getitem_multilevel(key)\n\u001b[1;32m-> 3807\u001b[0m indexer \u001b[38;5;241m=\u001b[39m \u001b[38;5;28mself\u001b[39m\u001b[38;5;241m.\u001b[39mcolumns\u001b[38;5;241m.\u001b[39mget_loc(key)\n\u001b[0;32m   3808\u001b[0m \u001b[38;5;28;01mif\u001b[39;00m is_integer(indexer):\n\u001b[0;32m   3809\u001b[0m     indexer \u001b[38;5;241m=\u001b[39m [indexer]\n",
      "File \u001b[1;32mc:\\Users\\rafae\\anaconda3\\Lib\\site-packages\\pandas\\core\\indexes\\base.py:3804\u001b[0m, in \u001b[0;36mIndex.get_loc\u001b[1;34m(self, key, method, tolerance)\u001b[0m\n\u001b[0;32m   3802\u001b[0m     \u001b[38;5;28;01mreturn\u001b[39;00m \u001b[38;5;28mself\u001b[39m\u001b[38;5;241m.\u001b[39m_engine\u001b[38;5;241m.\u001b[39mget_loc(casted_key)\n\u001b[0;32m   3803\u001b[0m \u001b[38;5;28;01mexcept\u001b[39;00m \u001b[38;5;167;01mKeyError\u001b[39;00m \u001b[38;5;28;01mas\u001b[39;00m err:\n\u001b[1;32m-> 3804\u001b[0m     \u001b[38;5;28;01mraise\u001b[39;00m \u001b[38;5;167;01mKeyError\u001b[39;00m(key) \u001b[38;5;28;01mfrom\u001b[39;00m \u001b[38;5;21;01merr\u001b[39;00m\n\u001b[0;32m   3805\u001b[0m \u001b[38;5;28;01mexcept\u001b[39;00m \u001b[38;5;167;01mTypeError\u001b[39;00m:\n\u001b[0;32m   3806\u001b[0m     \u001b[38;5;66;03m# If we have a listlike key, _check_indexing_error will raise\u001b[39;00m\n\u001b[0;32m   3807\u001b[0m     \u001b[38;5;66;03m#  InvalidIndexError. Otherwise we fall through and re-raise\u001b[39;00m\n\u001b[0;32m   3808\u001b[0m     \u001b[38;5;66;03m#  the TypeError.\u001b[39;00m\n\u001b[0;32m   3809\u001b[0m     \u001b[38;5;28mself\u001b[39m\u001b[38;5;241m.\u001b[39m_check_indexing_error(key)\n",
      "\u001b[1;31mKeyError\u001b[0m: 'table'"
     ]
    },
    {
     "data": {
      "image/png": "[encoded data removed]",
      "text/plain": [
       "<Figure size 1000x1200 with 8 Axes>"
      ]
     },
     "metadata": {},
     "output_type": "display_data"
    }
   ],
   "source": [
    "cont_columns = ['carat', 'depth', 'table', 'x', 'y', 'z', 'latitude', 'longitude ']\n",
    "num_variables = len(cont_columns)\n",
    "num_rows = (num_variables + 1) // 2  \n",
    "fig, axs = plt.subplots(nrows=num_rows, ncols=2, figsize=(10, num_rows * 3)) \n",
    "\n",
    "for i, variable in enumerate(cont_columns):\n",
    "    row = i // 2\n",
    "    col = i % 2\n",
    "    ax = axs[row, col]\n",
    "    diamonds_df[variable].hist(bins=20, ax=ax)\n",
    "    ax.set_title(variable)\n",
    "\n",
    "if num_variables % 2 != 0:\n",
    "    fig.delaxes(axs[num_rows - 1, 1])\n",
    "\n",
    "plt.tight_layout()\n",
    "plt.subplots_adjust(top=0.9, hspace=0.5)\n",
    "plt.suptitle('Histograms for continous variables', fontsize=16)\n",
    "plt.show()"
   ]
  }
 ],
 "metadata": {
  "kernelspec": {
   "display_name": "base",
   "language": "python",
   "name": "python3"
  },
  "language_info": {
   "codemirror_mode": {
    "name": "ipython",
    "version": 3
   },
   "file_extension": ".py",
   "mimetype": "text/x-python",
   "name": "python",
   "nbconvert_exporter": "python",
   "pygments_lexer": "ipython3",
   "version": "3.11.4"
  }
 },
 "nbformat": 4,
 "nbformat_minor": 2
}
